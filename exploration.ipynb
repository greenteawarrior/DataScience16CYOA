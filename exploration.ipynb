{
 "cells": [
  {
   "cell_type": "markdown",
   "metadata": {},
   "source": [
    "#### Emily Wang | Choose Your Own Adventure: San Francisco Crime Classification | Data Science 2016"
   ]
  },
  {
   "cell_type": "markdown",
   "metadata": {},
   "source": [
    "We're working with spatial data... Do map visualization libraries exist?\n",
    "* [DataMaps (javascript)](http://datamaps.github.io/)\n",
    "* [Google Maps Visualization Library (javascript)](https://developers.google.com/maps/documentation/javascript/visualization)\n",
    "* [Unfolding (processing and java)](http://unfoldingmaps.org/)\n",
    "\n",
    "Alright... python tools!\n",
    "* [Intro to Basemap](http://introtopython.org/visualization_earthquakes.html) \n",
    "* [Vincent](http://wrobstory.github.io/2013/04/python-maps-choropleth.html)\n",
    "* [reddit question](https://www.reddit.com/r/Python/comments/1onpe2/how_to_plot_data_onto_maps_in_python/)\n",
    "* [stackoverflow question](http://stackoverflow.com/questions/9018607/library-for-map-visualization)"
   ]
  },
  {
   "cell_type": "markdown",
   "metadata": {},
   "source": [
    "Okay. Let's import the data and do some things with pandas, and then look into the map visualization libraries I found in this quick Google search. \n",
    "\n",
    "First, let's think of some helper functions that we might reuse in several notebooks... We can come back to this cell later and update it."
   ]
  },
  {
   "cell_type": "code",
   "execution_count": 74,
   "metadata": {
    "collapsed": false
   },
   "outputs": [],
   "source": [
    "def clean_data():\n",
    "    # I realize that this may be different for every iteration, \n",
    "    # and we'll figure out some way to specify which \"cleaning\" is desired for a particular code block. \n",
    "    return\n",
    "\n",
    "# Normalizing the values of a column\n",
    "# series.apply(lambda x: (x - np.mean(x)) / (np.max(x) - np.min(x)))\n",
    "\n",
    "def start_map():\n",
    "    # Some code to help initialize a map visualization\n",
    "    return"
   ]
  },
  {
   "cell_type": "markdown",
   "metadata": {},
   "source": [
    "Also, importing cool tools and the data:"
   ]
  },
  {
   "cell_type": "code",
   "execution_count": 5,
   "metadata": {
    "collapsed": false
   },
   "outputs": [
    {
     "name": "stderr",
     "output_type": "stream",
     "text": [
      "/home/greenteawarrior/anaconda2/lib/python2.7/site-packages/matplotlib/font_manager.py:273: UserWarning: Matplotlib is building the font cache using fc-list. This may take a moment.\n",
      "  warnings.warn('Matplotlib is building the font cache using fc-list. This may take a moment.')\n"
     ]
    }
   ],
   "source": [
    "%matplotlib inline\n",
    "\n",
    "import pandas\n",
    "import numpy as np\n",
    "import seaborn as sns\n",
    "import matplotlib.pyplot as plt\n",
    "import pprint as pp"
   ]
  },
  {
   "cell_type": "code",
   "execution_count": 76,
   "metadata": {
    "collapsed": true
   },
   "outputs": [],
   "source": [
    "sfcrime = pandas.read_csv(\"./data/train.csv\")\n",
    "sfcrime_test = pandas.read_csv(\"./data/test.csv\")"
   ]
  },
  {
   "cell_type": "code",
   "execution_count": 77,
   "metadata": {
    "collapsed": false
   },
   "outputs": [
    {
     "data": {
      "text/html": [
       "<div>\n",
       "<table border=\"1\" class=\"dataframe\">\n",
       "  <thead>\n",
       "    <tr style=\"text-align: right;\">\n",
       "      <th></th>\n",
       "      <th>Dates</th>\n",
       "      <th>Category</th>\n",
       "      <th>Descript</th>\n",
       "      <th>DayOfWeek</th>\n",
       "      <th>PdDistrict</th>\n",
       "      <th>Resolution</th>\n",
       "      <th>Address</th>\n",
       "      <th>X</th>\n",
       "      <th>Y</th>\n",
       "    </tr>\n",
       "  </thead>\n",
       "  <tbody>\n",
       "    <tr>\n",
       "      <th>0</th>\n",
       "      <td>2015-05-13 23:53:00</td>\n",
       "      <td>WARRANTS</td>\n",
       "      <td>WARRANT ARREST</td>\n",
       "      <td>Wednesday</td>\n",
       "      <td>NORTHERN</td>\n",
       "      <td>ARREST, BOOKED</td>\n",
       "      <td>OAK ST / LAGUNA ST</td>\n",
       "      <td>-122.425892</td>\n",
       "      <td>37.774599</td>\n",
       "    </tr>\n",
       "    <tr>\n",
       "      <th>1</th>\n",
       "      <td>2015-05-13 23:53:00</td>\n",
       "      <td>OTHER OFFENSES</td>\n",
       "      <td>TRAFFIC VIOLATION ARREST</td>\n",
       "      <td>Wednesday</td>\n",
       "      <td>NORTHERN</td>\n",
       "      <td>ARREST, BOOKED</td>\n",
       "      <td>OAK ST / LAGUNA ST</td>\n",
       "      <td>-122.425892</td>\n",
       "      <td>37.774599</td>\n",
       "    </tr>\n",
       "    <tr>\n",
       "      <th>2</th>\n",
       "      <td>2015-05-13 23:33:00</td>\n",
       "      <td>OTHER OFFENSES</td>\n",
       "      <td>TRAFFIC VIOLATION ARREST</td>\n",
       "      <td>Wednesday</td>\n",
       "      <td>NORTHERN</td>\n",
       "      <td>ARREST, BOOKED</td>\n",
       "      <td>VANNESS AV / GREENWICH ST</td>\n",
       "      <td>-122.424363</td>\n",
       "      <td>37.800414</td>\n",
       "    </tr>\n",
       "    <tr>\n",
       "      <th>3</th>\n",
       "      <td>2015-05-13 23:30:00</td>\n",
       "      <td>LARCENY/THEFT</td>\n",
       "      <td>GRAND THEFT FROM LOCKED AUTO</td>\n",
       "      <td>Wednesday</td>\n",
       "      <td>NORTHERN</td>\n",
       "      <td>NONE</td>\n",
       "      <td>1500 Block of LOMBARD ST</td>\n",
       "      <td>-122.426995</td>\n",
       "      <td>37.800873</td>\n",
       "    </tr>\n",
       "    <tr>\n",
       "      <th>4</th>\n",
       "      <td>2015-05-13 23:30:00</td>\n",
       "      <td>LARCENY/THEFT</td>\n",
       "      <td>GRAND THEFT FROM LOCKED AUTO</td>\n",
       "      <td>Wednesday</td>\n",
       "      <td>PARK</td>\n",
       "      <td>NONE</td>\n",
       "      <td>100 Block of BRODERICK ST</td>\n",
       "      <td>-122.438738</td>\n",
       "      <td>37.771541</td>\n",
       "    </tr>\n",
       "    <tr>\n",
       "      <th>5</th>\n",
       "      <td>2015-05-13 23:30:00</td>\n",
       "      <td>LARCENY/THEFT</td>\n",
       "      <td>GRAND THEFT FROM UNLOCKED AUTO</td>\n",
       "      <td>Wednesday</td>\n",
       "      <td>INGLESIDE</td>\n",
       "      <td>NONE</td>\n",
       "      <td>0 Block of TEDDY AV</td>\n",
       "      <td>-122.403252</td>\n",
       "      <td>37.713431</td>\n",
       "    </tr>\n",
       "    <tr>\n",
       "      <th>6</th>\n",
       "      <td>2015-05-13 23:30:00</td>\n",
       "      <td>VEHICLE THEFT</td>\n",
       "      <td>STOLEN AUTOMOBILE</td>\n",
       "      <td>Wednesday</td>\n",
       "      <td>INGLESIDE</td>\n",
       "      <td>NONE</td>\n",
       "      <td>AVALON AV / PERU AV</td>\n",
       "      <td>-122.423327</td>\n",
       "      <td>37.725138</td>\n",
       "    </tr>\n",
       "    <tr>\n",
       "      <th>7</th>\n",
       "      <td>2015-05-13 23:30:00</td>\n",
       "      <td>VEHICLE THEFT</td>\n",
       "      <td>STOLEN AUTOMOBILE</td>\n",
       "      <td>Wednesday</td>\n",
       "      <td>BAYVIEW</td>\n",
       "      <td>NONE</td>\n",
       "      <td>KIRKWOOD AV / DONAHUE ST</td>\n",
       "      <td>-122.371274</td>\n",
       "      <td>37.727564</td>\n",
       "    </tr>\n",
       "    <tr>\n",
       "      <th>8</th>\n",
       "      <td>2015-05-13 23:00:00</td>\n",
       "      <td>LARCENY/THEFT</td>\n",
       "      <td>GRAND THEFT FROM LOCKED AUTO</td>\n",
       "      <td>Wednesday</td>\n",
       "      <td>RICHMOND</td>\n",
       "      <td>NONE</td>\n",
       "      <td>600 Block of 47TH AV</td>\n",
       "      <td>-122.508194</td>\n",
       "      <td>37.776601</td>\n",
       "    </tr>\n",
       "    <tr>\n",
       "      <th>9</th>\n",
       "      <td>2015-05-13 23:00:00</td>\n",
       "      <td>LARCENY/THEFT</td>\n",
       "      <td>GRAND THEFT FROM LOCKED AUTO</td>\n",
       "      <td>Wednesday</td>\n",
       "      <td>CENTRAL</td>\n",
       "      <td>NONE</td>\n",
       "      <td>JEFFERSON ST / LEAVENWORTH ST</td>\n",
       "      <td>-122.419088</td>\n",
       "      <td>37.807802</td>\n",
       "    </tr>\n",
       "    <tr>\n",
       "      <th>10</th>\n",
       "      <td>2015-05-13 22:58:00</td>\n",
       "      <td>LARCENY/THEFT</td>\n",
       "      <td>PETTY THEFT FROM LOCKED AUTO</td>\n",
       "      <td>Wednesday</td>\n",
       "      <td>CENTRAL</td>\n",
       "      <td>NONE</td>\n",
       "      <td>JEFFERSON ST / LEAVENWORTH ST</td>\n",
       "      <td>-122.419088</td>\n",
       "      <td>37.807802</td>\n",
       "    </tr>\n",
       "    <tr>\n",
       "      <th>11</th>\n",
       "      <td>2015-05-13 22:30:00</td>\n",
       "      <td>OTHER OFFENSES</td>\n",
       "      <td>MISCELLANEOUS INVESTIGATION</td>\n",
       "      <td>Wednesday</td>\n",
       "      <td>TARAVAL</td>\n",
       "      <td>NONE</td>\n",
       "      <td>0 Block of ESCOLTA WY</td>\n",
       "      <td>-122.487983</td>\n",
       "      <td>37.737667</td>\n",
       "    </tr>\n",
       "    <tr>\n",
       "      <th>12</th>\n",
       "      <td>2015-05-13 22:30:00</td>\n",
       "      <td>VANDALISM</td>\n",
       "      <td>MALICIOUS MISCHIEF, VANDALISM OF VEHICLES</td>\n",
       "      <td>Wednesday</td>\n",
       "      <td>TENDERLOIN</td>\n",
       "      <td>NONE</td>\n",
       "      <td>TURK ST / JONES ST</td>\n",
       "      <td>-122.412414</td>\n",
       "      <td>37.783004</td>\n",
       "    </tr>\n",
       "    <tr>\n",
       "      <th>13</th>\n",
       "      <td>2015-05-13 22:06:00</td>\n",
       "      <td>LARCENY/THEFT</td>\n",
       "      <td>GRAND THEFT FROM LOCKED AUTO</td>\n",
       "      <td>Wednesday</td>\n",
       "      <td>NORTHERN</td>\n",
       "      <td>NONE</td>\n",
       "      <td>FILLMORE ST / GEARY BL</td>\n",
       "      <td>-122.432915</td>\n",
       "      <td>37.784353</td>\n",
       "    </tr>\n",
       "    <tr>\n",
       "      <th>14</th>\n",
       "      <td>2015-05-13 22:00:00</td>\n",
       "      <td>NON-CRIMINAL</td>\n",
       "      <td>FOUND PROPERTY</td>\n",
       "      <td>Wednesday</td>\n",
       "      <td>BAYVIEW</td>\n",
       "      <td>NONE</td>\n",
       "      <td>200 Block of WILLIAMS AV</td>\n",
       "      <td>-122.397744</td>\n",
       "      <td>37.729935</td>\n",
       "    </tr>\n",
       "    <tr>\n",
       "      <th>15</th>\n",
       "      <td>2015-05-13 22:00:00</td>\n",
       "      <td>NON-CRIMINAL</td>\n",
       "      <td>FOUND PROPERTY</td>\n",
       "      <td>Wednesday</td>\n",
       "      <td>BAYVIEW</td>\n",
       "      <td>NONE</td>\n",
       "      <td>0 Block of MENDELL ST</td>\n",
       "      <td>-122.383692</td>\n",
       "      <td>37.743189</td>\n",
       "    </tr>\n",
       "    <tr>\n",
       "      <th>16</th>\n",
       "      <td>2015-05-13 22:00:00</td>\n",
       "      <td>ROBBERY</td>\n",
       "      <td>ROBBERY, ARMED WITH A KNIFE</td>\n",
       "      <td>Wednesday</td>\n",
       "      <td>TENDERLOIN</td>\n",
       "      <td>NONE</td>\n",
       "      <td>EDDY ST / JONES ST</td>\n",
       "      <td>-122.412597</td>\n",
       "      <td>37.783932</td>\n",
       "    </tr>\n",
       "    <tr>\n",
       "      <th>17</th>\n",
       "      <td>2015-05-13 21:55:00</td>\n",
       "      <td>ASSAULT</td>\n",
       "      <td>AGGRAVATED ASSAULT WITH BODILY FORCE</td>\n",
       "      <td>Wednesday</td>\n",
       "      <td>INGLESIDE</td>\n",
       "      <td>NONE</td>\n",
       "      <td>GODEUS ST / MISSION ST</td>\n",
       "      <td>-122.421682</td>\n",
       "      <td>37.742822</td>\n",
       "    </tr>\n",
       "    <tr>\n",
       "      <th>18</th>\n",
       "      <td>2015-05-13 21:40:00</td>\n",
       "      <td>OTHER OFFENSES</td>\n",
       "      <td>TRAFFIC VIOLATION</td>\n",
       "      <td>Wednesday</td>\n",
       "      <td>BAYVIEW</td>\n",
       "      <td>ARREST, BOOKED</td>\n",
       "      <td>MENDELL ST / HUDSON AV</td>\n",
       "      <td>-122.386401</td>\n",
       "      <td>37.738983</td>\n",
       "    </tr>\n",
       "    <tr>\n",
       "      <th>19</th>\n",
       "      <td>2015-05-13 21:30:00</td>\n",
       "      <td>NON-CRIMINAL</td>\n",
       "      <td>FOUND PROPERTY</td>\n",
       "      <td>Wednesday</td>\n",
       "      <td>TENDERLOIN</td>\n",
       "      <td>NONE</td>\n",
       "      <td>100 Block of JONES ST</td>\n",
       "      <td>-122.412250</td>\n",
       "      <td>37.782556</td>\n",
       "    </tr>\n",
       "    <tr>\n",
       "      <th>20</th>\n",
       "      <td>2015-05-13 21:30:00</td>\n",
       "      <td>LARCENY/THEFT</td>\n",
       "      <td>GRAND THEFT FROM LOCKED AUTO</td>\n",
       "      <td>Wednesday</td>\n",
       "      <td>INGLESIDE</td>\n",
       "      <td>NONE</td>\n",
       "      <td>200 Block of EVELYN WY</td>\n",
       "      <td>-122.449389</td>\n",
       "      <td>37.742669</td>\n",
       "    </tr>\n",
       "    <tr>\n",
       "      <th>21</th>\n",
       "      <td>2015-05-13 21:17:00</td>\n",
       "      <td>ROBBERY</td>\n",
       "      <td>ROBBERY, BODILY FORCE</td>\n",
       "      <td>Wednesday</td>\n",
       "      <td>INGLESIDE</td>\n",
       "      <td>NONE</td>\n",
       "      <td>1600 Block of VALENCIA ST</td>\n",
       "      <td>-122.420272</td>\n",
       "      <td>37.747332</td>\n",
       "    </tr>\n",
       "    <tr>\n",
       "      <th>22</th>\n",
       "      <td>2015-05-13 21:11:00</td>\n",
       "      <td>WARRANTS</td>\n",
       "      <td>WARRANT ARREST</td>\n",
       "      <td>Wednesday</td>\n",
       "      <td>TENDERLOIN</td>\n",
       "      <td>NONE</td>\n",
       "      <td>100 Block of JONES ST</td>\n",
       "      <td>-122.412250</td>\n",
       "      <td>37.782556</td>\n",
       "    </tr>\n",
       "    <tr>\n",
       "      <th>23</th>\n",
       "      <td>2015-05-13 21:11:00</td>\n",
       "      <td>NON-CRIMINAL</td>\n",
       "      <td>STAY AWAY OR COURT ORDER, NON-DV RELATED</td>\n",
       "      <td>Wednesday</td>\n",
       "      <td>TENDERLOIN</td>\n",
       "      <td>NONE</td>\n",
       "      <td>100 Block of JONES ST</td>\n",
       "      <td>-122.412250</td>\n",
       "      <td>37.782556</td>\n",
       "    </tr>\n",
       "    <tr>\n",
       "      <th>24</th>\n",
       "      <td>2015-05-13 21:10:00</td>\n",
       "      <td>LARCENY/THEFT</td>\n",
       "      <td>GRAND THEFT FROM LOCKED AUTO</td>\n",
       "      <td>Wednesday</td>\n",
       "      <td>NORTHERN</td>\n",
       "      <td>NONE</td>\n",
       "      <td>FILLMORE ST / LOMBARD ST</td>\n",
       "      <td>-122.436049</td>\n",
       "      <td>37.799841</td>\n",
       "    </tr>\n",
       "    <tr>\n",
       "      <th>25</th>\n",
       "      <td>2015-05-13 21:00:00</td>\n",
       "      <td>NON-CRIMINAL</td>\n",
       "      <td>LOST PROPERTY</td>\n",
       "      <td>Wednesday</td>\n",
       "      <td>TENDERLOIN</td>\n",
       "      <td>NONE</td>\n",
       "      <td>300 Block of OFARRELL ST</td>\n",
       "      <td>-122.410509</td>\n",
       "      <td>37.786043</td>\n",
       "    </tr>\n",
       "    <tr>\n",
       "      <th>26</th>\n",
       "      <td>2015-05-13 21:00:00</td>\n",
       "      <td>LARCENY/THEFT</td>\n",
       "      <td>GRAND THEFT FROM LOCKED AUTO</td>\n",
       "      <td>Wednesday</td>\n",
       "      <td>NORTHERN</td>\n",
       "      <td>NONE</td>\n",
       "      <td>2000 Block of BUSH ST</td>\n",
       "      <td>-122.431018</td>\n",
       "      <td>37.787388</td>\n",
       "    </tr>\n",
       "    <tr>\n",
       "      <th>27</th>\n",
       "      <td>2015-05-13 21:00:00</td>\n",
       "      <td>LARCENY/THEFT</td>\n",
       "      <td>GRAND THEFT FROM LOCKED AUTO</td>\n",
       "      <td>Wednesday</td>\n",
       "      <td>INGLESIDE</td>\n",
       "      <td>NONE</td>\n",
       "      <td>500 Block of COLLEGE AV</td>\n",
       "      <td>-122.423656</td>\n",
       "      <td>37.732556</td>\n",
       "    </tr>\n",
       "    <tr>\n",
       "      <th>28</th>\n",
       "      <td>2015-05-13 21:00:00</td>\n",
       "      <td>LARCENY/THEFT</td>\n",
       "      <td>ATTEMPTED THEFT FROM LOCKED VEHICLE</td>\n",
       "      <td>Wednesday</td>\n",
       "      <td>TARAVAL</td>\n",
       "      <td>NONE</td>\n",
       "      <td>19TH AV / SANTIAGO ST</td>\n",
       "      <td>-122.475773</td>\n",
       "      <td>37.744919</td>\n",
       "    </tr>\n",
       "    <tr>\n",
       "      <th>29</th>\n",
       "      <td>2015-05-13 20:56:00</td>\n",
       "      <td>OTHER OFFENSES</td>\n",
       "      <td>MISCELLANEOUS INVESTIGATION</td>\n",
       "      <td>Wednesday</td>\n",
       "      <td>TARAVAL</td>\n",
       "      <td>NONE</td>\n",
       "      <td>2000 Block of 41ST AV</td>\n",
       "      <td>-122.499787</td>\n",
       "      <td>37.748518</td>\n",
       "    </tr>\n",
       "    <tr>\n",
       "      <th>...</th>\n",
       "      <td>...</td>\n",
       "      <td>...</td>\n",
       "      <td>...</td>\n",
       "      <td>...</td>\n",
       "      <td>...</td>\n",
       "      <td>...</td>\n",
       "      <td>...</td>\n",
       "      <td>...</td>\n",
       "      <td>...</td>\n",
       "    </tr>\n",
       "    <tr>\n",
       "      <th>878019</th>\n",
       "      <td>2003-01-06 02:37:00</td>\n",
       "      <td>OTHER OFFENSES</td>\n",
       "      <td>DRIVERS LICENSE, SUSPENDED OR REVOKED</td>\n",
       "      <td>Monday</td>\n",
       "      <td>SOUTHERN</td>\n",
       "      <td>ARREST, CITED</td>\n",
       "      <td>6TH ST / MARKET ST</td>\n",
       "      <td>-122.410294</td>\n",
       "      <td>37.782231</td>\n",
       "    </tr>\n",
       "    <tr>\n",
       "      <th>878020</th>\n",
       "      <td>2003-01-06 02:32:00</td>\n",
       "      <td>OTHER OFFENSES</td>\n",
       "      <td>TRAFFIC VIOLATION</td>\n",
       "      <td>Monday</td>\n",
       "      <td>NORTHERN</td>\n",
       "      <td>ARREST, CITED</td>\n",
       "      <td>VAN NESS AV / TURK ST</td>\n",
       "      <td>-122.420642</td>\n",
       "      <td>37.781961</td>\n",
       "    </tr>\n",
       "    <tr>\n",
       "      <th>878021</th>\n",
       "      <td>2003-01-06 02:24:00</td>\n",
       "      <td>VANDALISM</td>\n",
       "      <td>MALICIOUS MISCHIEF</td>\n",
       "      <td>Monday</td>\n",
       "      <td>NORTHERN</td>\n",
       "      <td>NOT PROSECUTED</td>\n",
       "      <td>SANCHEZ ST / 14TH ST</td>\n",
       "      <td>-122.431191</td>\n",
       "      <td>37.767595</td>\n",
       "    </tr>\n",
       "    <tr>\n",
       "      <th>878022</th>\n",
       "      <td>2003-01-06 02:16:00</td>\n",
       "      <td>VEHICLE THEFT</td>\n",
       "      <td>RECOVERED VEHICLE - STOLEN OUTSIDE SF</td>\n",
       "      <td>Monday</td>\n",
       "      <td>MISSION</td>\n",
       "      <td>NONE</td>\n",
       "      <td>17TH ST / MISSION ST</td>\n",
       "      <td>-122.419516</td>\n",
       "      <td>37.763429</td>\n",
       "    </tr>\n",
       "    <tr>\n",
       "      <th>878023</th>\n",
       "      <td>2003-01-06 02:15:00</td>\n",
       "      <td>LARCENY/THEFT</td>\n",
       "      <td>GRAND THEFT PICKPOCKET</td>\n",
       "      <td>Monday</td>\n",
       "      <td>TENDERLOIN</td>\n",
       "      <td>NONE</td>\n",
       "      <td>600 Block of ELLIS ST</td>\n",
       "      <td>-122.416894</td>\n",
       "      <td>37.784286</td>\n",
       "    </tr>\n",
       "    <tr>\n",
       "      <th>878024</th>\n",
       "      <td>2003-01-06 02:09:00</td>\n",
       "      <td>OTHER OFFENSES</td>\n",
       "      <td>VIOLATION OF MUNICIPAL POLICE CODE</td>\n",
       "      <td>Monday</td>\n",
       "      <td>PARK</td>\n",
       "      <td>ARREST, CITED</td>\n",
       "      <td>600 Block of DIVISADERO ST</td>\n",
       "      <td>-122.437781</td>\n",
       "      <td>37.775483</td>\n",
       "    </tr>\n",
       "    <tr>\n",
       "      <th>878025</th>\n",
       "      <td>2003-01-06 02:06:00</td>\n",
       "      <td>OTHER OFFENSES</td>\n",
       "      <td>TRAFFIC VIOLATION</td>\n",
       "      <td>Monday</td>\n",
       "      <td>BAYVIEW</td>\n",
       "      <td>ARREST, BOOKED</td>\n",
       "      <td>NEWHALL ST / GALVEZ AV</td>\n",
       "      <td>-122.387710</td>\n",
       "      <td>37.740674</td>\n",
       "    </tr>\n",
       "    <tr>\n",
       "      <th>878026</th>\n",
       "      <td>2003-01-06 02:06:00</td>\n",
       "      <td>WARRANTS</td>\n",
       "      <td>WARRANT ARREST</td>\n",
       "      <td>Monday</td>\n",
       "      <td>BAYVIEW</td>\n",
       "      <td>ARREST, BOOKED</td>\n",
       "      <td>NEWHALL ST / GALVEZ AV</td>\n",
       "      <td>-122.387710</td>\n",
       "      <td>37.740674</td>\n",
       "    </tr>\n",
       "    <tr>\n",
       "      <th>878027</th>\n",
       "      <td>2003-01-06 02:00:00</td>\n",
       "      <td>WARRANTS</td>\n",
       "      <td>ENROUTE TO OUTSIDE JURISDICTION</td>\n",
       "      <td>Monday</td>\n",
       "      <td>SOUTHERN</td>\n",
       "      <td>ARREST, BOOKED</td>\n",
       "      <td>900 Block of MARKET ST</td>\n",
       "      <td>-122.409708</td>\n",
       "      <td>37.782828</td>\n",
       "    </tr>\n",
       "    <tr>\n",
       "      <th>878028</th>\n",
       "      <td>2003-01-06 02:00:00</td>\n",
       "      <td>ASSAULT</td>\n",
       "      <td>AGGRAVATED ASSAULT WITH BODILY FORCE</td>\n",
       "      <td>Monday</td>\n",
       "      <td>SOUTHERN</td>\n",
       "      <td>NONE</td>\n",
       "      <td>6TH ST / MARKET ST</td>\n",
       "      <td>-122.410294</td>\n",
       "      <td>37.782231</td>\n",
       "    </tr>\n",
       "    <tr>\n",
       "      <th>878029</th>\n",
       "      <td>2003-01-06 01:54:00</td>\n",
       "      <td>OTHER OFFENSES</td>\n",
       "      <td>PROBATION VIOLATION</td>\n",
       "      <td>Monday</td>\n",
       "      <td>TENDERLOIN</td>\n",
       "      <td>ARREST, BOOKED</td>\n",
       "      <td>1400 Block of GOLDEN GATE AV</td>\n",
       "      <td>-122.434423</td>\n",
       "      <td>37.779193</td>\n",
       "    </tr>\n",
       "    <tr>\n",
       "      <th>878030</th>\n",
       "      <td>2003-01-06 01:54:00</td>\n",
       "      <td>SEX OFFENSES FORCIBLE</td>\n",
       "      <td>FORCIBLE RAPE, BODILY FORCE</td>\n",
       "      <td>Monday</td>\n",
       "      <td>TENDERLOIN</td>\n",
       "      <td>ARREST, BOOKED</td>\n",
       "      <td>1400 Block of GOLDEN GATE AV</td>\n",
       "      <td>-122.434423</td>\n",
       "      <td>37.779193</td>\n",
       "    </tr>\n",
       "    <tr>\n",
       "      <th>878031</th>\n",
       "      <td>2003-01-06 01:50:00</td>\n",
       "      <td>ASSAULT</td>\n",
       "      <td>BATTERY</td>\n",
       "      <td>Monday</td>\n",
       "      <td>BAYVIEW</td>\n",
       "      <td>NONE</td>\n",
       "      <td>3RD ST / NEWCOMB AV</td>\n",
       "      <td>-122.390417</td>\n",
       "      <td>37.735593</td>\n",
       "    </tr>\n",
       "    <tr>\n",
       "      <th>878032</th>\n",
       "      <td>2003-01-06 01:36:00</td>\n",
       "      <td>OTHER OFFENSES</td>\n",
       "      <td>DRIVERS LICENSE, SUSPENDED OR REVOKED</td>\n",
       "      <td>Monday</td>\n",
       "      <td>NORTHERN</td>\n",
       "      <td>ARREST, CITED</td>\n",
       "      <td>GEARY BL / FRANKLIN ST</td>\n",
       "      <td>-122.423031</td>\n",
       "      <td>37.785482</td>\n",
       "    </tr>\n",
       "    <tr>\n",
       "      <th>878033</th>\n",
       "      <td>2003-01-06 01:30:00</td>\n",
       "      <td>VANDALISM</td>\n",
       "      <td>MALICIOUS MISCHIEF, VANDALISM</td>\n",
       "      <td>Monday</td>\n",
       "      <td>RICHMOND</td>\n",
       "      <td>ARREST, CITED</td>\n",
       "      <td>1000 Block of 22ND AV</td>\n",
       "      <td>-122.391668</td>\n",
       "      <td>37.757793</td>\n",
       "    </tr>\n",
       "    <tr>\n",
       "      <th>878034</th>\n",
       "      <td>2003-01-06 01:30:00</td>\n",
       "      <td>TRESPASS</td>\n",
       "      <td>TRESPASSING</td>\n",
       "      <td>Monday</td>\n",
       "      <td>RICHMOND</td>\n",
       "      <td>ARREST, CITED</td>\n",
       "      <td>1000 Block of 22ND AV</td>\n",
       "      <td>-122.391668</td>\n",
       "      <td>37.757793</td>\n",
       "    </tr>\n",
       "    <tr>\n",
       "      <th>878035</th>\n",
       "      <td>2003-01-06 00:55:00</td>\n",
       "      <td>ASSAULT</td>\n",
       "      <td>BATTERY</td>\n",
       "      <td>Monday</td>\n",
       "      <td>NORTHERN</td>\n",
       "      <td>NONE</td>\n",
       "      <td>1300 Block of WEBSTER ST</td>\n",
       "      <td>-122.431046</td>\n",
       "      <td>37.783030</td>\n",
       "    </tr>\n",
       "    <tr>\n",
       "      <th>878036</th>\n",
       "      <td>2003-01-06 00:55:00</td>\n",
       "      <td>LARCENY/THEFT</td>\n",
       "      <td>PETTY THEFT SHOPLIFTING</td>\n",
       "      <td>Monday</td>\n",
       "      <td>NORTHERN</td>\n",
       "      <td>NONE</td>\n",
       "      <td>1300 Block of WEBSTER ST</td>\n",
       "      <td>-122.431046</td>\n",
       "      <td>37.783030</td>\n",
       "    </tr>\n",
       "    <tr>\n",
       "      <th>878037</th>\n",
       "      <td>2003-01-06 00:55:00</td>\n",
       "      <td>VANDALISM</td>\n",
       "      <td>MALICIOUS MISCHIEF, VANDALISM</td>\n",
       "      <td>Monday</td>\n",
       "      <td>NORTHERN</td>\n",
       "      <td>NONE</td>\n",
       "      <td>1300 Block of WEBSTER ST</td>\n",
       "      <td>-122.431046</td>\n",
       "      <td>37.783030</td>\n",
       "    </tr>\n",
       "    <tr>\n",
       "      <th>878038</th>\n",
       "      <td>2003-01-06 00:42:00</td>\n",
       "      <td>WARRANTS</td>\n",
       "      <td>ENROUTE TO OUTSIDE JURISDICTION</td>\n",
       "      <td>Monday</td>\n",
       "      <td>TENDERLOIN</td>\n",
       "      <td>ARREST, BOOKED</td>\n",
       "      <td>TAYLOR ST / GEARY ST</td>\n",
       "      <td>-122.411519</td>\n",
       "      <td>37.786941</td>\n",
       "    </tr>\n",
       "    <tr>\n",
       "      <th>878039</th>\n",
       "      <td>2003-01-06 00:40:00</td>\n",
       "      <td>OTHER OFFENSES</td>\n",
       "      <td>DRIVERS LICENSE, SUSPENDED OR REVOKED</td>\n",
       "      <td>Monday</td>\n",
       "      <td>NORTHERN</td>\n",
       "      <td>ARREST, CITED</td>\n",
       "      <td>POLK ST / CALIFORNIA ST</td>\n",
       "      <td>-122.420692</td>\n",
       "      <td>37.790577</td>\n",
       "    </tr>\n",
       "    <tr>\n",
       "      <th>878040</th>\n",
       "      <td>2003-01-06 00:33:00</td>\n",
       "      <td>ASSAULT</td>\n",
       "      <td>INFLICT INJURY ON COHABITEE</td>\n",
       "      <td>Monday</td>\n",
       "      <td>MISSION</td>\n",
       "      <td>NONE</td>\n",
       "      <td>2800 Block of FOLSOM ST</td>\n",
       "      <td>-122.414073</td>\n",
       "      <td>37.751685</td>\n",
       "    </tr>\n",
       "    <tr>\n",
       "      <th>878041</th>\n",
       "      <td>2003-01-06 00:31:00</td>\n",
       "      <td>OTHER OFFENSES</td>\n",
       "      <td>DRIVERS LICENSE, SUSPENDED OR REVOKED</td>\n",
       "      <td>Monday</td>\n",
       "      <td>RICHMOND</td>\n",
       "      <td>ARREST, CITED</td>\n",
       "      <td>CLEMENT ST / 14TH AV</td>\n",
       "      <td>-122.472985</td>\n",
       "      <td>37.782552</td>\n",
       "    </tr>\n",
       "    <tr>\n",
       "      <th>878042</th>\n",
       "      <td>2003-01-06 00:20:00</td>\n",
       "      <td>ASSAULT</td>\n",
       "      <td>ATTEMPTED HOMICIDE WITH A GUN</td>\n",
       "      <td>Monday</td>\n",
       "      <td>BAYVIEW</td>\n",
       "      <td>ARREST, BOOKED</td>\n",
       "      <td>1500 Block of SHAFTER AV</td>\n",
       "      <td>-122.389769</td>\n",
       "      <td>37.730564</td>\n",
       "    </tr>\n",
       "    <tr>\n",
       "      <th>878043</th>\n",
       "      <td>2003-01-06 00:20:00</td>\n",
       "      <td>OTHER OFFENSES</td>\n",
       "      <td>PAROLE VIOLATION</td>\n",
       "      <td>Monday</td>\n",
       "      <td>BAYVIEW</td>\n",
       "      <td>ARREST, BOOKED</td>\n",
       "      <td>1500 Block of SHAFTER AV</td>\n",
       "      <td>-122.389769</td>\n",
       "      <td>37.730564</td>\n",
       "    </tr>\n",
       "    <tr>\n",
       "      <th>878044</th>\n",
       "      <td>2003-01-06 00:15:00</td>\n",
       "      <td>ROBBERY</td>\n",
       "      <td>ROBBERY ON THE STREET WITH A GUN</td>\n",
       "      <td>Monday</td>\n",
       "      <td>TARAVAL</td>\n",
       "      <td>NONE</td>\n",
       "      <td>FARALLONES ST / CAPITOL AV</td>\n",
       "      <td>-122.459033</td>\n",
       "      <td>37.714056</td>\n",
       "    </tr>\n",
       "    <tr>\n",
       "      <th>878045</th>\n",
       "      <td>2003-01-06 00:01:00</td>\n",
       "      <td>LARCENY/THEFT</td>\n",
       "      <td>GRAND THEFT FROM LOCKED AUTO</td>\n",
       "      <td>Monday</td>\n",
       "      <td>INGLESIDE</td>\n",
       "      <td>NONE</td>\n",
       "      <td>600 Block of EDNA ST</td>\n",
       "      <td>-122.447364</td>\n",
       "      <td>37.731948</td>\n",
       "    </tr>\n",
       "    <tr>\n",
       "      <th>878046</th>\n",
       "      <td>2003-01-06 00:01:00</td>\n",
       "      <td>LARCENY/THEFT</td>\n",
       "      <td>GRAND THEFT FROM LOCKED AUTO</td>\n",
       "      <td>Monday</td>\n",
       "      <td>SOUTHERN</td>\n",
       "      <td>NONE</td>\n",
       "      <td>5TH ST / FOLSOM ST</td>\n",
       "      <td>-122.403390</td>\n",
       "      <td>37.780266</td>\n",
       "    </tr>\n",
       "    <tr>\n",
       "      <th>878047</th>\n",
       "      <td>2003-01-06 00:01:00</td>\n",
       "      <td>VANDALISM</td>\n",
       "      <td>MALICIOUS MISCHIEF, VANDALISM OF VEHICLES</td>\n",
       "      <td>Monday</td>\n",
       "      <td>SOUTHERN</td>\n",
       "      <td>NONE</td>\n",
       "      <td>TOWNSEND ST / 2ND ST</td>\n",
       "      <td>-122.390531</td>\n",
       "      <td>37.780607</td>\n",
       "    </tr>\n",
       "    <tr>\n",
       "      <th>878048</th>\n",
       "      <td>2003-01-06 00:01:00</td>\n",
       "      <td>FORGERY/COUNTERFEITING</td>\n",
       "      <td>CHECKS, FORGERY (FELONY)</td>\n",
       "      <td>Monday</td>\n",
       "      <td>BAYVIEW</td>\n",
       "      <td>NONE</td>\n",
       "      <td>1800 Block of NEWCOMB AV</td>\n",
       "      <td>-122.394926</td>\n",
       "      <td>37.738212</td>\n",
       "    </tr>\n",
       "  </tbody>\n",
       "</table>\n",
       "<p>878049 rows × 9 columns</p>\n",
       "</div>"
      ],
      "text/plain": [
       "                      Dates                Category  \\\n",
       "0       2015-05-13 23:53:00                WARRANTS   \n",
       "1       2015-05-13 23:53:00          OTHER OFFENSES   \n",
       "2       2015-05-13 23:33:00          OTHER OFFENSES   \n",
       "3       2015-05-13 23:30:00           LARCENY/THEFT   \n",
       "4       2015-05-13 23:30:00           LARCENY/THEFT   \n",
       "5       2015-05-13 23:30:00           LARCENY/THEFT   \n",
       "6       2015-05-13 23:30:00           VEHICLE THEFT   \n",
       "7       2015-05-13 23:30:00           VEHICLE THEFT   \n",
       "8       2015-05-13 23:00:00           LARCENY/THEFT   \n",
       "9       2015-05-13 23:00:00           LARCENY/THEFT   \n",
       "10      2015-05-13 22:58:00           LARCENY/THEFT   \n",
       "11      2015-05-13 22:30:00          OTHER OFFENSES   \n",
       "12      2015-05-13 22:30:00               VANDALISM   \n",
       "13      2015-05-13 22:06:00           LARCENY/THEFT   \n",
       "14      2015-05-13 22:00:00            NON-CRIMINAL   \n",
       "15      2015-05-13 22:00:00            NON-CRIMINAL   \n",
       "16      2015-05-13 22:00:00                 ROBBERY   \n",
       "17      2015-05-13 21:55:00                 ASSAULT   \n",
       "18      2015-05-13 21:40:00          OTHER OFFENSES   \n",
       "19      2015-05-13 21:30:00            NON-CRIMINAL   \n",
       "20      2015-05-13 21:30:00           LARCENY/THEFT   \n",
       "21      2015-05-13 21:17:00                 ROBBERY   \n",
       "22      2015-05-13 21:11:00                WARRANTS   \n",
       "23      2015-05-13 21:11:00            NON-CRIMINAL   \n",
       "24      2015-05-13 21:10:00           LARCENY/THEFT   \n",
       "25      2015-05-13 21:00:00            NON-CRIMINAL   \n",
       "26      2015-05-13 21:00:00           LARCENY/THEFT   \n",
       "27      2015-05-13 21:00:00           LARCENY/THEFT   \n",
       "28      2015-05-13 21:00:00           LARCENY/THEFT   \n",
       "29      2015-05-13 20:56:00          OTHER OFFENSES   \n",
       "...                     ...                     ...   \n",
       "878019  2003-01-06 02:37:00          OTHER OFFENSES   \n",
       "878020  2003-01-06 02:32:00          OTHER OFFENSES   \n",
       "878021  2003-01-06 02:24:00               VANDALISM   \n",
       "878022  2003-01-06 02:16:00           VEHICLE THEFT   \n",
       "878023  2003-01-06 02:15:00           LARCENY/THEFT   \n",
       "878024  2003-01-06 02:09:00          OTHER OFFENSES   \n",
       "878025  2003-01-06 02:06:00          OTHER OFFENSES   \n",
       "878026  2003-01-06 02:06:00                WARRANTS   \n",
       "878027  2003-01-06 02:00:00                WARRANTS   \n",
       "878028  2003-01-06 02:00:00                 ASSAULT   \n",
       "878029  2003-01-06 01:54:00          OTHER OFFENSES   \n",
       "878030  2003-01-06 01:54:00   SEX OFFENSES FORCIBLE   \n",
       "878031  2003-01-06 01:50:00                 ASSAULT   \n",
       "878032  2003-01-06 01:36:00          OTHER OFFENSES   \n",
       "878033  2003-01-06 01:30:00               VANDALISM   \n",
       "878034  2003-01-06 01:30:00                TRESPASS   \n",
       "878035  2003-01-06 00:55:00                 ASSAULT   \n",
       "878036  2003-01-06 00:55:00           LARCENY/THEFT   \n",
       "878037  2003-01-06 00:55:00               VANDALISM   \n",
       "878038  2003-01-06 00:42:00                WARRANTS   \n",
       "878039  2003-01-06 00:40:00          OTHER OFFENSES   \n",
       "878040  2003-01-06 00:33:00                 ASSAULT   \n",
       "878041  2003-01-06 00:31:00          OTHER OFFENSES   \n",
       "878042  2003-01-06 00:20:00                 ASSAULT   \n",
       "878043  2003-01-06 00:20:00          OTHER OFFENSES   \n",
       "878044  2003-01-06 00:15:00                 ROBBERY   \n",
       "878045  2003-01-06 00:01:00           LARCENY/THEFT   \n",
       "878046  2003-01-06 00:01:00           LARCENY/THEFT   \n",
       "878047  2003-01-06 00:01:00               VANDALISM   \n",
       "878048  2003-01-06 00:01:00  FORGERY/COUNTERFEITING   \n",
       "\n",
       "                                         Descript  DayOfWeek  PdDistrict  \\\n",
       "0                                  WARRANT ARREST  Wednesday    NORTHERN   \n",
       "1                        TRAFFIC VIOLATION ARREST  Wednesday    NORTHERN   \n",
       "2                        TRAFFIC VIOLATION ARREST  Wednesday    NORTHERN   \n",
       "3                    GRAND THEFT FROM LOCKED AUTO  Wednesday    NORTHERN   \n",
       "4                    GRAND THEFT FROM LOCKED AUTO  Wednesday        PARK   \n",
       "5                  GRAND THEFT FROM UNLOCKED AUTO  Wednesday   INGLESIDE   \n",
       "6                               STOLEN AUTOMOBILE  Wednesday   INGLESIDE   \n",
       "7                               STOLEN AUTOMOBILE  Wednesday     BAYVIEW   \n",
       "8                    GRAND THEFT FROM LOCKED AUTO  Wednesday    RICHMOND   \n",
       "9                    GRAND THEFT FROM LOCKED AUTO  Wednesday     CENTRAL   \n",
       "10                   PETTY THEFT FROM LOCKED AUTO  Wednesday     CENTRAL   \n",
       "11                    MISCELLANEOUS INVESTIGATION  Wednesday     TARAVAL   \n",
       "12      MALICIOUS MISCHIEF, VANDALISM OF VEHICLES  Wednesday  TENDERLOIN   \n",
       "13                   GRAND THEFT FROM LOCKED AUTO  Wednesday    NORTHERN   \n",
       "14                                 FOUND PROPERTY  Wednesday     BAYVIEW   \n",
       "15                                 FOUND PROPERTY  Wednesday     BAYVIEW   \n",
       "16                    ROBBERY, ARMED WITH A KNIFE  Wednesday  TENDERLOIN   \n",
       "17           AGGRAVATED ASSAULT WITH BODILY FORCE  Wednesday   INGLESIDE   \n",
       "18                              TRAFFIC VIOLATION  Wednesday     BAYVIEW   \n",
       "19                                 FOUND PROPERTY  Wednesday  TENDERLOIN   \n",
       "20                   GRAND THEFT FROM LOCKED AUTO  Wednesday   INGLESIDE   \n",
       "21                          ROBBERY, BODILY FORCE  Wednesday   INGLESIDE   \n",
       "22                                 WARRANT ARREST  Wednesday  TENDERLOIN   \n",
       "23       STAY AWAY OR COURT ORDER, NON-DV RELATED  Wednesday  TENDERLOIN   \n",
       "24                   GRAND THEFT FROM LOCKED AUTO  Wednesday    NORTHERN   \n",
       "25                                  LOST PROPERTY  Wednesday  TENDERLOIN   \n",
       "26                   GRAND THEFT FROM LOCKED AUTO  Wednesday    NORTHERN   \n",
       "27                   GRAND THEFT FROM LOCKED AUTO  Wednesday   INGLESIDE   \n",
       "28            ATTEMPTED THEFT FROM LOCKED VEHICLE  Wednesday     TARAVAL   \n",
       "29                    MISCELLANEOUS INVESTIGATION  Wednesday     TARAVAL   \n",
       "...                                           ...        ...         ...   \n",
       "878019      DRIVERS LICENSE, SUSPENDED OR REVOKED     Monday    SOUTHERN   \n",
       "878020                          TRAFFIC VIOLATION     Monday    NORTHERN   \n",
       "878021                         MALICIOUS MISCHIEF     Monday    NORTHERN   \n",
       "878022      RECOVERED VEHICLE - STOLEN OUTSIDE SF     Monday     MISSION   \n",
       "878023                     GRAND THEFT PICKPOCKET     Monday  TENDERLOIN   \n",
       "878024         VIOLATION OF MUNICIPAL POLICE CODE     Monday        PARK   \n",
       "878025                          TRAFFIC VIOLATION     Monday     BAYVIEW   \n",
       "878026                             WARRANT ARREST     Monday     BAYVIEW   \n",
       "878027            ENROUTE TO OUTSIDE JURISDICTION     Monday    SOUTHERN   \n",
       "878028       AGGRAVATED ASSAULT WITH BODILY FORCE     Monday    SOUTHERN   \n",
       "878029                        PROBATION VIOLATION     Monday  TENDERLOIN   \n",
       "878030                FORCIBLE RAPE, BODILY FORCE     Monday  TENDERLOIN   \n",
       "878031                                    BATTERY     Monday     BAYVIEW   \n",
       "878032      DRIVERS LICENSE, SUSPENDED OR REVOKED     Monday    NORTHERN   \n",
       "878033              MALICIOUS MISCHIEF, VANDALISM     Monday    RICHMOND   \n",
       "878034                                TRESPASSING     Monday    RICHMOND   \n",
       "878035                                    BATTERY     Monday    NORTHERN   \n",
       "878036                    PETTY THEFT SHOPLIFTING     Monday    NORTHERN   \n",
       "878037              MALICIOUS MISCHIEF, VANDALISM     Monday    NORTHERN   \n",
       "878038            ENROUTE TO OUTSIDE JURISDICTION     Monday  TENDERLOIN   \n",
       "878039      DRIVERS LICENSE, SUSPENDED OR REVOKED     Monday    NORTHERN   \n",
       "878040                INFLICT INJURY ON COHABITEE     Monday     MISSION   \n",
       "878041      DRIVERS LICENSE, SUSPENDED OR REVOKED     Monday    RICHMOND   \n",
       "878042              ATTEMPTED HOMICIDE WITH A GUN     Monday     BAYVIEW   \n",
       "878043                           PAROLE VIOLATION     Monday     BAYVIEW   \n",
       "878044           ROBBERY ON THE STREET WITH A GUN     Monday     TARAVAL   \n",
       "878045               GRAND THEFT FROM LOCKED AUTO     Monday   INGLESIDE   \n",
       "878046               GRAND THEFT FROM LOCKED AUTO     Monday    SOUTHERN   \n",
       "878047  MALICIOUS MISCHIEF, VANDALISM OF VEHICLES     Monday    SOUTHERN   \n",
       "878048                   CHECKS, FORGERY (FELONY)     Monday     BAYVIEW   \n",
       "\n",
       "            Resolution                        Address           X          Y  \n",
       "0       ARREST, BOOKED             OAK ST / LAGUNA ST -122.425892  37.774599  \n",
       "1       ARREST, BOOKED             OAK ST / LAGUNA ST -122.425892  37.774599  \n",
       "2       ARREST, BOOKED      VANNESS AV / GREENWICH ST -122.424363  37.800414  \n",
       "3                 NONE       1500 Block of LOMBARD ST -122.426995  37.800873  \n",
       "4                 NONE      100 Block of BRODERICK ST -122.438738  37.771541  \n",
       "5                 NONE            0 Block of TEDDY AV -122.403252  37.713431  \n",
       "6                 NONE            AVALON AV / PERU AV -122.423327  37.725138  \n",
       "7                 NONE       KIRKWOOD AV / DONAHUE ST -122.371274  37.727564  \n",
       "8                 NONE           600 Block of 47TH AV -122.508194  37.776601  \n",
       "9                 NONE  JEFFERSON ST / LEAVENWORTH ST -122.419088  37.807802  \n",
       "10                NONE  JEFFERSON ST / LEAVENWORTH ST -122.419088  37.807802  \n",
       "11                NONE          0 Block of ESCOLTA WY -122.487983  37.737667  \n",
       "12                NONE             TURK ST / JONES ST -122.412414  37.783004  \n",
       "13                NONE         FILLMORE ST / GEARY BL -122.432915  37.784353  \n",
       "14                NONE       200 Block of WILLIAMS AV -122.397744  37.729935  \n",
       "15                NONE          0 Block of MENDELL ST -122.383692  37.743189  \n",
       "16                NONE             EDDY ST / JONES ST -122.412597  37.783932  \n",
       "17                NONE         GODEUS ST / MISSION ST -122.421682  37.742822  \n",
       "18      ARREST, BOOKED         MENDELL ST / HUDSON AV -122.386401  37.738983  \n",
       "19                NONE          100 Block of JONES ST -122.412250  37.782556  \n",
       "20                NONE         200 Block of EVELYN WY -122.449389  37.742669  \n",
       "21                NONE      1600 Block of VALENCIA ST -122.420272  37.747332  \n",
       "22                NONE          100 Block of JONES ST -122.412250  37.782556  \n",
       "23                NONE          100 Block of JONES ST -122.412250  37.782556  \n",
       "24                NONE       FILLMORE ST / LOMBARD ST -122.436049  37.799841  \n",
       "25                NONE       300 Block of OFARRELL ST -122.410509  37.786043  \n",
       "26                NONE          2000 Block of BUSH ST -122.431018  37.787388  \n",
       "27                NONE        500 Block of COLLEGE AV -122.423656  37.732556  \n",
       "28                NONE          19TH AV / SANTIAGO ST -122.475773  37.744919  \n",
       "29                NONE          2000 Block of 41ST AV -122.499787  37.748518  \n",
       "...                ...                            ...         ...        ...  \n",
       "878019   ARREST, CITED             6TH ST / MARKET ST -122.410294  37.782231  \n",
       "878020   ARREST, CITED          VAN NESS AV / TURK ST -122.420642  37.781961  \n",
       "878021  NOT PROSECUTED           SANCHEZ ST / 14TH ST -122.431191  37.767595  \n",
       "878022            NONE           17TH ST / MISSION ST -122.419516  37.763429  \n",
       "878023            NONE          600 Block of ELLIS ST -122.416894  37.784286  \n",
       "878024   ARREST, CITED     600 Block of DIVISADERO ST -122.437781  37.775483  \n",
       "878025  ARREST, BOOKED         NEWHALL ST / GALVEZ AV -122.387710  37.740674  \n",
       "878026  ARREST, BOOKED         NEWHALL ST / GALVEZ AV -122.387710  37.740674  \n",
       "878027  ARREST, BOOKED         900 Block of MARKET ST -122.409708  37.782828  \n",
       "878028            NONE             6TH ST / MARKET ST -122.410294  37.782231  \n",
       "878029  ARREST, BOOKED   1400 Block of GOLDEN GATE AV -122.434423  37.779193  \n",
       "878030  ARREST, BOOKED   1400 Block of GOLDEN GATE AV -122.434423  37.779193  \n",
       "878031            NONE            3RD ST / NEWCOMB AV -122.390417  37.735593  \n",
       "878032   ARREST, CITED         GEARY BL / FRANKLIN ST -122.423031  37.785482  \n",
       "878033   ARREST, CITED          1000 Block of 22ND AV -122.391668  37.757793  \n",
       "878034   ARREST, CITED          1000 Block of 22ND AV -122.391668  37.757793  \n",
       "878035            NONE       1300 Block of WEBSTER ST -122.431046  37.783030  \n",
       "878036            NONE       1300 Block of WEBSTER ST -122.431046  37.783030  \n",
       "878037            NONE       1300 Block of WEBSTER ST -122.431046  37.783030  \n",
       "878038  ARREST, BOOKED           TAYLOR ST / GEARY ST -122.411519  37.786941  \n",
       "878039   ARREST, CITED        POLK ST / CALIFORNIA ST -122.420692  37.790577  \n",
       "878040            NONE        2800 Block of FOLSOM ST -122.414073  37.751685  \n",
       "878041   ARREST, CITED           CLEMENT ST / 14TH AV -122.472985  37.782552  \n",
       "878042  ARREST, BOOKED       1500 Block of SHAFTER AV -122.389769  37.730564  \n",
       "878043  ARREST, BOOKED       1500 Block of SHAFTER AV -122.389769  37.730564  \n",
       "878044            NONE     FARALLONES ST / CAPITOL AV -122.459033  37.714056  \n",
       "878045            NONE           600 Block of EDNA ST -122.447364  37.731948  \n",
       "878046            NONE             5TH ST / FOLSOM ST -122.403390  37.780266  \n",
       "878047            NONE           TOWNSEND ST / 2ND ST -122.390531  37.780607  \n",
       "878048            NONE       1800 Block of NEWCOMB AV -122.394926  37.738212  \n",
       "\n",
       "[878049 rows x 9 columns]"
      ]
     },
     "execution_count": 77,
     "metadata": {},
     "output_type": "execute_result"
    }
   ],
   "source": [
    "sfcrime"
   ]
  },
  {
   "cell_type": "markdown",
   "metadata": {},
   "source": [
    "### Descriptions for each feature\n",
    "\n",
    "List from the [kaggle competition webpage](https://www.kaggle.com/c/sf-crime/data?test.csv.zip)\n",
    "\n",
    "* *Dates* - timestamp of the crime incident\n",
    "* *Category* - category of the crime incident (only in train.csv). This is the target variable you are going to predict.\n",
    "* *Descript* - detailed description of the crime incident (only in train.csv)\n",
    "* *DayOfWeek* - the day of the week\n",
    "* *PdDistrict* - name of the Police Department District\n",
    "* *Resolution* - how the crime incident was resolved (only in train.csv)\n",
    "* *Address* - the approximate street address of the crime incident \n",
    "* *X* - Longitude\n",
    "* *Y* - Latitude"
   ]
  },
  {
   "cell_type": "markdown",
   "metadata": {},
   "source": [
    "### Finding the unique values for each feature"
   ]
  },
  {
   "cell_type": "code",
   "execution_count": 78,
   "metadata": {
    "collapsed": true
   },
   "outputs": [],
   "source": [
    "def print_unique_vals(feature_str):\n",
    "    # Prints the unique values for a given feature. \n",
    "    # SF crime datafrme should already be loaded and ready to go in this notebook.\n",
    "    for x in sfcrime[feature_str].unique():\n",
    "        print x"
   ]
  },
  {
   "cell_type": "markdown",
   "metadata": {},
   "source": [
    "#### Dates - timestamp of the crime incident\n",
    "\n",
    "(Naturally) each row has a unique Date value. Not sure how well times will help with predicting the future, though. "
   ]
  },
  {
   "cell_type": "code",
   "execution_count": 79,
   "metadata": {
    "collapsed": false
   },
   "outputs": [],
   "source": [
    "# Note: These are commented out because printing everything made the notebook very long; feel free to uncomment \n",
    "# or use the print_unique_vals helper function when desired. :-)\n",
    "# print_unique_vals(\"Dates\")"
   ]
  },
  {
   "cell_type": "markdown",
   "metadata": {},
   "source": [
    "#### Category - category of the crime incident (only in train.csv)\n",
    "\n",
    "This is the variable we're trying to predict in the kaggle competition. \n",
    "\n",
    "I am wondering how many samples we have for each category... the many categories and different amounts of data for each category will make this a tough kaggle competition. ;) \n",
    "\n",
    "Feature engineering thought: Maybe we can make meta-categories? (So, the model might predict the meta-category first, and then do a more \"focused\" prediction between the choices in that meta-category. Is there a model that works well for this high-level strategy?) "
   ]
  },
  {
   "cell_type": "code",
   "execution_count": 80,
   "metadata": {
    "collapsed": false
   },
   "outputs": [],
   "source": [
    "# print_unique_vals(\"Category\")"
   ]
  },
  {
   "cell_type": "markdown",
   "metadata": {},
   "source": [
    "#### Descript - detailed description of the crime incident (only in train.csv)\n",
    "\n",
    "(Naturally) each incident has a different description. This is a sneaky opportunity to practice some NLP... but Filippos and I don't want to immediately open that can of worms. We might be able to use something like indico's [text analysis APIs](https://indico.io/product) to turn these human-readable descriptions into features for our model. \n",
    "\n",
    "Ryan suggests doing an n-gram model on the text fields could be a good start, since the descriptions are sometimes very consistent. A quick scan through the unique values of `Descript` show how these descriptions are a handful of comma-separated phrases and not complete sentences; there may already be some structure that we can process easily wtihout worrying about heavy-duty NLP.the day of the week.\n",
    "\n",
    "The meta-category idea could also make sense here."
   ]
  },
  {
   "cell_type": "code",
   "execution_count": 81,
   "metadata": {
    "collapsed": false
   },
   "outputs": [],
   "source": [
    "# print_unique_vals(\"Descript\")"
   ]
  },
  {
   "cell_type": "markdown",
   "metadata": {},
   "source": [
    "#### DayOfWeek - the day of the week\n",
    "\n",
    "Crime happens every day of the week in this dataset -- maybe we can plot some histograms to see if there are significant trends between day and categories. We should definitely normalize the frequencies to make fair comparisons if there are different amounts of samples for each category!!"
   ]
  },
  {
   "cell_type": "code",
   "execution_count": 82,
   "metadata": {
    "collapsed": false
   },
   "outputs": [],
   "source": [
    "# print_unique_vals(\"DayOfWeek\")"
   ]
  },
  {
   "cell_type": "markdown",
   "metadata": {},
   "source": [
    "#### PdDistrict - name of the Police Department District\n",
    "\n",
    "This is where some context about San Francisco could be helpful -- I found myself immediately making the assumption that primarily police from the corresponding department district will handle crimes in that district... but maybe sometimes police from other districts get involved. "
   ]
  },
  {
   "cell_type": "code",
   "execution_count": 83,
   "metadata": {
    "collapsed": false
   },
   "outputs": [],
   "source": [
    "# print_unique_vals(\"PdDistrict\")"
   ]
  },
  {
   "cell_type": "markdown",
   "metadata": {},
   "source": [
    "#### Resolution - how the crime incident was resolved (only in train.csv)\n",
    "\n",
    "There must be some way to rank the resolution in order of intensity -- and this intensity rating (i.e. more intense resolutions have higher intesity scores) could be more useful to the model rather than word categories. "
   ]
  },
  {
   "cell_type": "code",
   "execution_count": 84,
   "metadata": {
    "collapsed": false
   },
   "outputs": [],
   "source": [
    "# print_unique_vals(\"Resolution\")"
   ]
  },
  {
   "cell_type": "markdown",
   "metadata": {},
   "source": [
    "#### Address - the approximate street address of the crime incident \n",
    "\n",
    "I'm wondering if there are any significant trends in streets within departments/regions -- do all the streets within a particular department tend to have the same \"crime level\" or are there obvious streets that are the worst of the city? What if it's different based on what part of the street you are on? This is when a map-based visualization could be helpful. "
   ]
  },
  {
   "cell_type": "code",
   "execution_count": 85,
   "metadata": {
    "collapsed": false
   },
   "outputs": [],
   "source": [
    "# print_unique_vals(\"Address\")"
   ]
  },
  {
   "cell_type": "markdown",
   "metadata": {},
   "source": [
    "#### X - Longitude\n",
    "\n",
    "X and Y might be better digested in a map-based visualization. Or maybe there's a particular X or Y value that is relatively bad or good?"
   ]
  },
  {
   "cell_type": "code",
   "execution_count": 86,
   "metadata": {
    "collapsed": false
   },
   "outputs": [],
   "source": [
    "# print_unique_vals(\"X\")"
   ]
  },
  {
   "cell_type": "markdown",
   "metadata": {},
   "source": [
    "#### Y - Latitude\n",
    "\n",
    "(same comments as X - Longitude): X and Y might be better digested in a map-based visualization. Or maybe there's a particular X or Y value that is relatively bad or good?"
   ]
  },
  {
   "cell_type": "code",
   "execution_count": 87,
   "metadata": {
    "collapsed": false
   },
   "outputs": [],
   "source": [
    "# print_unique_vals(\"Y\")"
   ]
  },
  {
   "cell_type": "markdown",
   "metadata": {},
   "source": [
    "### Somewhat overwhelmed by time\n",
    "\n",
    "I'm pretty overwhelmed by how any visualization of variables that I can think of (e.g. day of week vs. category) can then be followed by \"...does that hold true for every year between 2003 and 2015??\" I think for now I will try to plot things by year; let's see how many samples we have per year of data.\n",
    "\n",
    "I'm using bar charts because I am plotting the independent variable as categories (year 2003, year 2004, year 2005, ..., up to year 2015) rather than some continuous quantity (occurrences between years 2003-2005, 2005-2007, etc). "
   ]
  },
  {
   "cell_type": "code",
   "execution_count": 88,
   "metadata": {
    "collapsed": false
   },
   "outputs": [],
   "source": [
    "# NEW FEATURE: Year\n",
    "sfcrime[\"Year\"] = sfcrime[\"Dates\"].apply(lambda x: x.split(\" \")[0].split(\"-\")[0])\n",
    "sfcrime[\"Year\"] = sfcrime[\"Year\"].apply(lambda x: int(x))\n",
    "\n",
    "# NEW FEATURE: Month\n",
    "sfcrime[\"Month\"] = sfcrime[\"Dates\"].apply(lambda x: x.split(\" \")[0].split(\"-\")[1])\n",
    "sfcrime[\"Month\"] = sfcrime[\"Month\"].apply(lambda x: int(x))"
   ]
  },
  {
   "cell_type": "markdown",
   "metadata": {},
   "source": [
    "### TODO:\n",
    "* Commentary for the bar plots above\n",
    "* Ryan also brought up this idea: \"you could cluster data points, and investigate time properties of the clusters.\n",
    "Then you could see, for these samples that look similar, is there commonality in years that this happens?  Is there commonality in the month or season it happens?\" [unsupervised learning clusters]\n",
    "* Weekday vs. Counts for each category (so, a grid of figures)\n",
    "* barplots of resolutions and PdDistrict\n",
    "* Script of reusable helper functions\n",
    "* Read up on a map visualization library\n",
    "* And more!"
   ]
  },
  {
   "cell_type": "markdown",
   "metadata": {},
   "source": [
    "(Monday Feb 8, Meeting with Filippos)"
   ]
  },
  {
   "cell_type": "code",
   "execution_count": 89,
   "metadata": {
    "collapsed": false
   },
   "outputs": [
    {
     "data": {
      "image/png": "[encoded data removed]",
      "text/plain": [
       "<matplotlib.figure.Figure at 0x7fa24d531dd0>"
      ]
     },
     "metadata": {},
     "output_type": "display_data"
    }
   ],
   "source": [
    "fig = sns.countplot(x=\"Year\", data=sfcrime)\n",
    "_ = plt.xticks(rotation=90)"
   ]
  },
  {
   "cell_type": "code",
   "execution_count": 90,
   "metadata": {
    "collapsed": false
   },
   "outputs": [
    {
     "data": {
      "image/png": "[encoded data removed]",
      "text/plain": [
       "<matplotlib.figure.Figure at 0x7fa23f577650>"
      ]
     },
     "metadata": {},
     "output_type": "display_data"
    }
   ],
   "source": [
    "fig = sns.countplot(x=\"PdDistrict\", data=sfcrime)\n",
    "_ = plt.xticks(rotation=90)"
   ]
  },
  {
   "cell_type": "code",
   "execution_count": 103,
   "metadata": {
    "collapsed": false
   },
   "outputs": [
    {
     "data": {
      "image/png": "[encoded data removed]",
      "text/plain": [
       "<matplotlib.figure.Figure at 0x7fa24cbb4390>"
      ]
     },
     "metadata": {},
     "output_type": "display_data"
    }
   ],
   "source": [
    "fig = sns.countplot(x=\"DayOfWeek\", data=sfcrime)\n",
    "_ = plt.xticks(rotation=90)"
   ]
  },
  {
   "cell_type": "code",
   "execution_count": 104,
   "metadata": {
    "collapsed": true
   },
   "outputs": [],
   "source": [
    "def sfcountplot(x):\n",
    "    fig = sns.countplot(x=x, data=sfcrime)\n",
    "    _ = plt.xticks(rotation=90)"
   ]
  },
  {
   "cell_type": "code",
   "execution_count": 105,
   "metadata": {
    "collapsed": false
   },
   "outputs": [
    {
     "data": {
      "image/png": "[encoded data removed]",
      "text/plain": [
       "<matplotlib.figure.Figure at 0x7fa25293b650>"
      ]
     },
     "metadata": {},
     "output_type": "display_data"
    }
   ],
   "source": []
  },
  {
   "cell_type": "code",
   "execution_count": 92,
   "metadata": {
    "collapsed": false
   },
   "outputs": [
    {
     "data": {
      "image/png": "[encoded data removed]",
      "text/plain": [
       "<matplotlib.figure.Figure at 0x7fa2478a22d0>"
      ]
     },
     "metadata": {},
     "output_type": "display_data"
    }
   ],
   "source": [
    "cat_subset = [\"ASSAULT\", \"BURGLARY\", \"MISSING PERSON\", \"ROBBERY\"]\n",
    "\n",
    "grouped = sfcrime.groupby(['Category'], sort=False)\n",
    "\n",
    "weekday_counts = grouped['DayOfWeek'].value_counts(normalize=True, sort=False)\n",
    "\n",
    "weekday_data = [\n",
    "    {'category': category, 'DayOfWeek': DayOfWeek, 'percentage': percentage*100} \n",
    "    for (category, DayOfWeek), percentage in dict(weekday_counts).items() if category in cat_subset\n",
    "]\n",
    "\n",
    "df_weekday = pandas.DataFrame(weekday_data)\n",
    "weekday_order = ['Monday', 'Tuesday', 'Wednesday', 'Thursday', 'Friday', 'Saturday', 'Sunday']\n",
    "\n",
    "p = plt.figure(figsize=(10,7))\n",
    "p = sns.barplot(x='category', y='percentage', hue='DayOfWeek', data=df_weekday, hue_order=weekday_order)\n",
    "_ = plt.setp(p.get_xticklabels(), rotation=90) \n",
    "_ = plt.legend(bbox_to_anchor=(1.05, 1), loc=2)"
   ]
  },
  {
   "cell_type": "markdown",
   "metadata": {},
   "source": [
    "#### TODO\n",
    "\n",
    "* Refactor the relative frequency barplot code into a helper function \n",
    "* Try plotting the residuals over time and see if there are any \"outlier\"s\n",
    "* Layers of time\n",
    "* Maps/GIS?"
   ]
  },
  {
   "cell_type": "code",
   "execution_count": 93,
   "metadata": {
    "collapsed": false
   },
   "outputs": [],
   "source": [
    "# NEW FEATURE: WeekdayNumber\n",
    "\n",
    "sfcrime['WeekdayNumber'] = sfcrime['DayOfWeek']\n",
    "sfcrime.loc[sfcrime[\"DayOfWeek\"] == \"Monday\", \"WeekdayNumber\"] = 1\n",
    "sfcrime.loc[sfcrime[\"DayOfWeek\"] == \"Tuesday\", \"WeekdayNumber\"] = 2\n",
    "sfcrime.loc[sfcrime[\"DayOfWeek\"] == \"Wednesday\", \"WeekdayNumber\"] = 3\n",
    "sfcrime.loc[sfcrime[\"DayOfWeek\"] == \"Thursday\", \"WeekdayNumber\"] = 4\n",
    "sfcrime.loc[sfcrime[\"DayOfWeek\"] == \"Friday\", \"WeekdayNumber\"] = 5\n",
    "sfcrime.loc[sfcrime[\"DayOfWeek\"] == \"Saturday\", \"WeekdayNumber\"] = 6\n",
    "sfcrime.loc[sfcrime[\"DayOfWeek\"] == \"Sunday\", \"WeekdayNumber\"] = 7"
   ]
  },
  {
   "cell_type": "code",
   "execution_count": 94,
   "metadata": {
    "collapsed": false
   },
   "outputs": [],
   "source": [
    "# NEW FEATURE: PdDistrictNumber\n",
    "\n",
    "sfcrime['PdDistrictNumber'] = sfcrime['PdDistrict']\n",
    "sfcrime.loc[sfcrime[\"PdDistrict\"] == \"NORTHERN\", \"PdDistrictNumber\"] = 1\n",
    "sfcrime.loc[sfcrime[\"PdDistrict\"] == \"PARK\", \"PdDistrictNumber\"] = 2\n",
    "sfcrime.loc[sfcrime[\"PdDistrict\"] == \"INGLESIDE\", \"PdDistrictNumber\"] = 3\n",
    "sfcrime.loc[sfcrime[\"PdDistrict\"] == \"BAYVIEW\", \"PdDistrictNumber\"] = 4\n",
    "sfcrime.loc[sfcrime[\"PdDistrict\"] == \"RICHMOND\", \"PdDistrictNumber\"] = 5\n",
    "sfcrime.loc[sfcrime[\"PdDistrict\"] == \"CENTRAL\", \"PdDistrictNumber\"] = 6\n",
    "sfcrime.loc[sfcrime[\"PdDistrict\"] == \"TARAVAL\", \"PdDistrictNumber\"] = 7\n",
    "sfcrime.loc[sfcrime[\"PdDistrict\"] == \"TENDERLOIN\", \"PdDistrictNumber\"] = 8\n",
    "sfcrime.loc[sfcrime[\"PdDistrict\"] == \"MISSION\", \"PdDistrictNumber\"] = 9\n",
    "sfcrime.loc[sfcrime[\"PdDistrict\"] == \"SOUTHERN\", \"PdDistrictNumber\"] = 10"
   ]
  },
  {
   "cell_type": "code",
   "execution_count": 95,
   "metadata": {
    "collapsed": false
   },
   "outputs": [],
   "source": [
    "def sfcrime_subset(feature, feature_subset):\n",
    "    \"\"\" \n",
    "    Returns a new dataframe that is a subset of the data based on the given feature. \n",
    "    e.g. feature = 'Category', feature_subset = ['WARRANTS', 'DRUNKENNEESS']\n",
    "    \"\"\"\n",
    "    frames = []\n",
    "    for s in featurenames:\n",
    "        frames.append(sfcrime[sfcrime[feature == s])\n",
    "    sfcrime_subset = pandas.concat(frames)\n",
    "    return sfcrime_subset\n",
    "\n",
    "cats_subset = ['WARRANTS', 'DRUNKENNESS']\n",
    "sfcrime_subset = sfcrime_subset('Category', cats_subset)"
   ]
  },
  {
   "cell_type": "code",
   "execution_count": 100,
   "metadata": {
    "collapsed": false
   },
   "outputs": [],
   "source": [
    "# sfcrime_subset"
   ]
  },
  {
   "cell_type": "markdown",
   "metadata": {},
   "source": [
    "#### Scatterplot matrix?"
   ]
  },
  {
   "cell_type": "code",
   "execution_count": 99,
   "metadata": {
    "collapsed": false
   },
   "outputs": [
    {
     "data": {
      "image/png": "[encoded data removed]",
      "text/plain": [
       "<matplotlib.figure.Figure at 0x7fa246e2f0d0>"
      ]
     },
     "metadata": {},
     "output_type": "display_data"
    }
   ],
   "source": [
    "pp = sns.pairplot(sfcrime_subset, vars=['WeekdayNumber', 'Month', 'Year', 'PdDistrictNumber'])"
   ]
  },
  {
   "cell_type": "markdown",
   "metadata": {},
   "source": [
    "Welp... Scatterplot matrices for categorical variables encoded into numbers isn't nearly as insightful as one would hope. :x All of the datapoints are sort of overlayed over each other and there's a grid to show the presence of it."
   ]
  },
  {
   "cell_type": "markdown",
   "metadata": {},
   "source": [
    "#### Clustering? \n",
    "\n",
    "Tried to investigate K-Means clustering for categorical data... check out the responses to [this question about mixed numerical/categorical data](http://datascience.stackexchange.com/questions/22/k-means-clustering-for-mixed-numeric-and-categorical-data?newreg=e66aef60b1b943dfa5da7ef135503a0e). \n",
    "\n",
    "Major takeaway for the categorical aspect is \"The sample space for categorical data is discrete, and doesn't have a natural origin. A Euclidean distance function on such a space isn't really meaningful. As someone put it, 'The fact a snake possesses neither wheels nor legs allows us to say nothing about the relative value of wheels and legs.'\".\n",
    "\n",
    "Is there some combination of feature engineering and well-chosen similarly measures that exist for this purpose??\n",
    "\n",
    "Papers papers papers!\n",
    "\n",
    "* [\"What is a good clustering algorithm on hybrid dataset composed of both numerical and categorical data?\" on ResearchGate](https://www.researchgate.net/post/What_is_a_good_clustering_algorithm_on_hybrid_dataset_composed_of_both_numerical_and_categorical_data)\n",
    "* [Summarizing Categorical Data by Clustering Attributes](http://win.ua.ac.be/~adrem/bibrem/pubs/mampaey:12:summarizing.pdf)\n",
    "* [ROCK: A Robust Clustering Algorithm for Categorical Attributes](https://www.cis.upenn.edu/~sudipto/mypapers/categorical.pdf)\n",
    "* [Extensions to the k-Means Algorithm for Clustering Large Data Sets with Categorical Values](http://www.cs.ust.hk/~qyang/Teaching/537/Papers/huang98extensions.pdf)\n",
    "* [LIMBO: Scalable Clustering of Categorical Data](http://dblab.cs.toronto.edu/project/limbo/docs/edbt04.pdf)"
   ]
  },
  {
   "cell_type": "markdown",
   "metadata": {},
   "source": [
    "#### Machine learning map\n",
    "\n",
    "http://scikit-learn.org/stable/tutorial/machine_learning_map/\n",
    "\n",
    "* more than 50 samples\n",
    "* predicting a category\n",
    "* we have labeled data\n",
    "* we have <100K samples\n",
    "* try a linear SVC\n",
    "* if that doesn't work, try a KNN (but the issues raised above about clustering will apply) or SVC and ensemble classifiers"
   ]
  },
  {
   "cell_type": "markdown",
   "metadata": {
    "collapsed": true
   },
   "source": [
    "#### Writing\n",
    "\n",
    "Our ultimate goal is to utilize this dataset to help the SFPD redistribute their resources/police intelligently throughout the day/week. For example, some areas may be more dangerous than others in the evening, and the SFPD may want to send more resources to the more dangerous areas.\n",
    "\n",
    "To kick off our predictive model iterations, we are implementing a simple version of the entire pipeline (prepare features, vectorize, model fit, predict). For inputs, we will be using some relatively straightforward combination of time and location to predict the category of crime. "
   ]
  },
  {
   "cell_type": "code",
   "execution_count": 33,
   "metadata": {
    "collapsed": false
   },
   "outputs": [],
   "source": [
    "# import exploration_helpers\n",
    "\n",
    "# print exploration_helpers.cp\n",
    "\n",
    "# exploration_helpers.cp(\"DayOfWeek\")"
   ]
  },
  {
   "cell_type": "code",
   "execution_count": 80,
   "metadata": {
    "collapsed": false
   },
   "outputs": [],
   "source": [
    "from IPython.display import display\n",
    "import pandas as pd\n",
    "\n",
    "df = sfcrime.groupby(\"Category\")\n",
    "keep_cats = []\n",
    "drop_cats = []\n",
    "keep_cats_dataframes = []\n",
    "for c in sfcrime[\"Category\"].unique():\n",
    "    # display(df.get_group(c).head())\n",
    "    # category_counts_dict[c] = len(df.get_group(c))\n",
    "    if len(df.get_group(c)) > 5000:\n",
    "        keep_cats.append(c)\n",
    "        keep_cats_dataframes.append(sfcrime[sfcrime[\"Category\"] == c])\n",
    "    else:\n",
    "        drop_cats.append(c)\n",
    "\n",
    "filtered_df = pd.concat(keep_cats_dataframes)\n",
    "                                  \n",
    "# sfcrime[sfcrime[\"Category\"] == [\"WARRANTS\"] # == or !="
   ]
  },
  {
   "cell_type": "code",
   "execution_count": 85,
   "metadata": {
    "collapsed": false
   },
   "outputs": [
    {
     "name": "stdout",
     "output_type": "stream",
     "text": [
      "['WARRANTS' 'OTHER OFFENSES' 'LARCENY/THEFT' 'VEHICLE THEFT' 'VANDALISM'\n",
      " 'NON-CRIMINAL' 'ROBBERY' 'ASSAULT' 'WEAPON LAWS' 'BURGLARY'\n",
      " 'SUSPICIOUS OCC' 'FORGERY/COUNTERFEITING' 'DRUG/NARCOTIC'\n",
      " 'SECONDARY CODES' 'TRESPASS' 'MISSING PERSON' 'FRAUD' 'PROSTITUTION']\n",
      "(842749, 13)\n"
     ]
    }
   ],
   "source": [
    "print filtered_df[\"Category\"].unique()\n",
    "print filtered_df.shape\n",
    "# display(filtered_df)"
   ]
  },
  {
   "cell_type": "code",
   "execution_count": null,
   "metadata": {
    "collapsed": true
   },
   "outputs": [],
   "source": [
    "def filter_cats(sfcrime):\n",
    "    # Filters the dataset for the most popular crime categories \n",
    "    # \"most popular\" being categories with more than 5000 incidents\n",
    "    df = sfcrime.groupby(\"Category\")\n",
    "    keep_cats = []\n",
    "    drop_cats = []\n",
    "    keep_cats_dataframes = []\n",
    "    for c in sfcrime[\"Category\"].unique():\n",
    "        if len(df.get_group(c)) > 5000:\n",
    "            keep_cats.append(c)\n",
    "            keep_cats_dataframes.append(sfcrime[sfcrime[\"Category\"] == c])\n",
    "        else:\n",
    "            drop_cats.append(c)\n",
    "\n",
    "    filtered_df = pd.concat(keep_cats_dataframes)\n",
    "    return filtered_df, keep_cats"
   ]
  },
  {
   "cell_type": "code",
   "execution_count": 83,
   "metadata": {
    "collapsed": false
   },
   "outputs": [
    {
     "data": {
      "text/plain": [
       "39"
      ]
     },
     "execution_count": 83,
     "metadata": {},
     "output_type": "execute_result"
    }
   ],
   "source": [
    "for c in keep_cats:\n",
    "    keep_cats_dataframes.append(sfcrime[sfcrime[\"Category\"] == c])\n",
    "filtered_df = pd.concat(keep_cats_dataframes)"
   ]
  },
  {
   "cell_type": "code",
   "execution_count": null,
   "metadata": {
    "collapsed": true
   },
   "outputs": [],
   "source": []
  }
 ],
 "metadata": {
  "kernelspec": {
   "display_name": "Python 2",
   "language": "python",
   "name": "python2"
  },
  "language_info": {
   "codemirror_mode": {
    "name": "ipython",
    "version": 2
   },
   "file_extension": ".py",
   "mimetype": "text/x-python",
   "name": "python",
   "nbconvert_exporter": "python",
   "pygments_lexer": "ipython2",
   "version": "2.7.11"
  }
 },
 "nbformat": 4,
 "nbformat_minor": 0
}
